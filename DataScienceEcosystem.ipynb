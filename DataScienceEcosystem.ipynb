{
 "cells": [
  {
   "cell_type": "markdown",
   "id": "ab2fff9a-c8b8-4f00-a979-3ea1337e1688",
   "metadata": {},
   "source": [
    "# Data Science Tools and Ecosystem"
   ]
  },
  {
   "cell_type": "markdown",
   "id": "ffb56084-47e4-4a58-8f65-a646b3862158",
   "metadata": {},
   "source": [
    "In this notebook, Data Science Tools and Ecosystem are summarized."
   ]
  },
  {
   "cell_type": "markdown",
   "id": "6f3b3822-c1e8-4c2d-bca9-d552cb2a2cfe",
   "metadata": {},
   "source": [
    "<b>Objectives:</b>\n",
    "- List popular languages for Data Science\n",
    "- List commonly used libraries\n",
    "- Show a few data science tools in a table\n",
    "- Display arithmetic expressions in Python\n",
    "- (And so on)"
   ]
  },
  {
   "cell_type": "markdown",
   "id": "d24a6a36-d708-4c45-8b5d-af9a8dfc7c5b",
   "metadata": {},
   "source": [
    "Some of the popular languages that Data Scientists use are:\n",
    "1. Python\n",
    "2. R\n",
    "3. SQL"
   ]
  },
  {
   "cell_type": "markdown",
   "id": "34d72485-de31-4875-9ebb-8165675982ec",
   "metadata": {},
   "source": [
    "Some of the commonly used libraries used by Data Scientists include:\n",
    "1. pandas\n",
    "2. numpy\n",
    "3. matplotlib"
   ]
  },
  {
   "cell_type": "markdown",
   "id": "73963719-3db6-447b-ae59-ab6d81fd5210",
   "metadata": {},
   "source": [
    "| Data Science Tools |\n",
    "| --- |\n",
    "IBM Watson Studio\n",
    "The Model Asset Exchange (MAX)\n",
    "Jupyter Notebook\n",
    "GitHub"
   ]
  },
  {
   "cell_type": "markdown",
   "id": "05ac325f-9522-4265-b1cd-3d338ef15e32",
   "metadata": {},
   "source": [
    "### Below are a few examples of evaluating arithmetic expressions in Python\n",
    "\n",
    "- addition:&emsp; &emsp; &emsp; &emsp; x + y &emsp; #use '+'\n",
    "- subtraction:&emsp; &emsp; &emsp;x - y &emsp; #use '-'\n",
    "- multiplication:&emsp; &emsp; x * y &emsp; #use '*'\n",
    "- division:&emsp; &emsp; &emsp; &emsp; x / y &emsp; #use '/'\n",
    "- floor division: &emsp; &emsp; x // y &nbsp; #use '//', returns an integrer \n",
    "- exponentiation: &nbsp; &nbsp; &nbsp; x ** y &nbsp; #use '**'\n",
    "- modulo: &emsp; &emsp; &emsp; &emsp; x % y &nbsp; #use '%', remainder when a is divided by b"
   ]
  },
  {
   "cell_type": "code",
   "execution_count": 8,
   "id": "03fcbeff-96a3-4fc2-83e7-8f5a37112ac0",
   "metadata": {},
   "outputs": [
    {
     "data": {
      "text/plain": [
       "17.0"
      ]
     },
     "execution_count": 8,
     "metadata": {},
     "output_type": "execute_result"
    }
   ],
   "source": [
    "#This a simple arithmetic expression to mutiply then add integers\n",
    "(3*4)+5."
   ]
  },
  {
   "cell_type": "code",
   "execution_count": 9,
   "id": "2b881b9e-84c2-4a43-9f06-90175ddaa198",
   "metadata": {},
   "outputs": [
    {
     "data": {
      "text/plain": [
       "3.3333333333333335"
      ]
     },
     "execution_count": 9,
     "metadata": {},
     "output_type": "execute_result"
    }
   ],
   "source": [
    "# This will convert 200 minutes to hours by diving by 60\n",
    "200 / 60"
   ]
  },
  {
   "cell_type": "markdown",
   "id": "a5703358-ace9-4429-8031-eb4154005141",
   "metadata": {},
   "source": [
    "## Author\n",
    "André Menzel"
   ]
  }
 ],
 "metadata": {
  "kernelspec": {
   "display_name": "Python",
   "language": "python",
   "name": "conda-env-python-py"
  },
  "language_info": {
   "codemirror_mode": {
    "name": "ipython",
    "version": 3
   },
   "file_extension": ".py",
   "mimetype": "text/x-python",
   "name": "python",
   "nbconvert_exporter": "python",
   "pygments_lexer": "ipython3",
   "version": "3.7.12"
  }
 },
 "nbformat": 4,
 "nbformat_minor": 5
}
